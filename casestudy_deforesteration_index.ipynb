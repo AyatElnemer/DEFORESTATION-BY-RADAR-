{
 "cells": [
  {
   "cell_type": "code",
   "execution_count": 53,
   "id": "5bd693c9",
   "metadata": {
    "scrolled": true
   },
   "outputs": [
    {
     "data": {
      "text/html": [
       "<p>To authorize access needed by Earth Engine, open the following\n",
       "        URL in a web browser and follow the instructions:</p>\n",
       "        <p><a href=https://accounts.google.com/o/oauth2/auth?client_id=517222506229-vsmmajv00ul0bs7p89v5m89qs8eb9359.apps.googleusercontent.com&scope=https%3A%2F%2Fwww.googleapis.com%2Fauth%2Fearthengine+https%3A%2F%2Fwww.googleapis.com%2Fauth%2Fdevstorage.full_control&redirect_uri=urn%3Aietf%3Awg%3Aoauth%3A2.0%3Aoob&response_type=code&code_challenge=adsYlM21_DOu1bEvOHqfE0g1bjgkrI5p5kXm6ozZa90&code_challenge_method=S256>https://accounts.google.com/o/oauth2/auth?client_id=517222506229-vsmmajv00ul0bs7p89v5m89qs8eb9359.apps.googleusercontent.com&scope=https%3A%2F%2Fwww.googleapis.com%2Fauth%2Fearthengine+https%3A%2F%2Fwww.googleapis.com%2Fauth%2Fdevstorage.full_control&redirect_uri=urn%3Aietf%3Awg%3Aoauth%3A2.0%3Aoob&response_type=code&code_challenge=adsYlM21_DOu1bEvOHqfE0g1bjgkrI5p5kXm6ozZa90&code_challenge_method=S256</a></p>\n",
       "        <p>The authorization workflow will generate a code, which you\n",
       "        should paste in the box below</p>\n",
       "        "
      ],
      "text/plain": [
       "<IPython.core.display.HTML object>"
      ]
     },
     "metadata": {},
     "output_type": "display_data"
    },
    {
     "name": "stdout",
     "output_type": "stream",
     "text": [
      "Enter verification code: 4/1AX4XfWjfAMelzHmyHoNr8AXkeC6bz5Ewmnijs_4q4KcqGWXEebWCB82BPKU\n",
      "\n",
      "Successfully saved authorization token.\n"
     ]
    }
   ],
   "source": [
    "import ee\n",
    "import IPython.display as disp\n",
    "%matplotlib inline\n",
    "import matplotlib.pyplot as plt\n",
    "import numpy as np\n",
    "from scipy.stats import norm, gamma, f, chi2\n",
    "import geemap\n",
    "\n",
    "\n",
    "# Trigger the authentication flow.\n",
    "ee.Authenticate()\n",
    "\n",
    "# Initialize the library.\n",
    "ee.Initialize()\n"
   ]
  },
  {
   "cell_type": "code",
   "execution_count": 54,
   "id": "8ac6d1d5",
   "metadata": {},
   "outputs": [],
   "source": [
    "#defining the area of interest (aoi)\n",
    "geoJSON = {\n",
    "  \"type\": \"FeatureCollection\",\n",
    "  \"features\": [\n",
    "    {\n",
    "      \"type\": \"Feature\",\n",
    "      \"properties\": {},\n",
    "      \"geometry\": {\n",
    "        \"type\": \"Polygon\",\n",
    "        \"coordinates\": [\n",
    "          [\n",
    "            [\n",
    "              116.44019,\n",
    "              -0.662607\n",
    "            ],\n",
    "            [\n",
    "              116.485106,\n",
    "              -0.662607\n",
    "            ],\n",
    "            [\n",
    "              116.485106,\n",
    "              -0.707523\n",
    "            ],\n",
    "            [\n",
    "             116.44019,\n",
    "              -0.707523\n",
    "            ],\n",
    "            [\n",
    "              116.44019,\n",
    "              -0.662607\n",
    "            ]\n",
    "          ]\n",
    "        ]\n",
    "      }\n",
    "    }\n",
    "  ]\n",
    "}\n",
    "\n",
    "coords = geoJSON['features'][0]['geometry']['coordinates']\n",
    "aoi = ee.Geometry.Polygon(coords)"
   ]
  },
  {
   "cell_type": "code",
   "execution_count": 55,
   "id": "bc333a15",
   "metadata": {},
   "outputs": [],
   "source": [
    "import folium\n",
    "# Define a method for displaying Earth Engine image tiles to folium map for visuallizing\n",
    "def add_ee_layer(self, ee_image_object, vis_params, name):\n",
    "  map_id_dict = ee.Image(ee_image_object).getMapId(vis_params)\n",
    "  folium.raster_layers.TileLayer(\n",
    "    tiles = map_id_dict['tile_fetcher'].url_format,\n",
    "    attr = 'Map Data &copy; <a href=\"https://earthengine.google.com/\">Google Earth Engine</a>',\n",
    "    name = name,\n",
    "    overlay = True,\n",
    "    control = True\n",
    "  ).add_to(self)\n",
    "\n",
    "# Add EE drawing method to folium.\n",
    "folium.Map.add_ee_layer = add_ee_layer"
   ]
  },
  {
   "cell_type": "code",
   "execution_count": 56,
   "id": "6347951b",
   "metadata": {},
   "outputs": [],
   "source": [
    "#calling the sentinel 1 images for the two periods from the google earth engine\n",
    "\n",
    "s1_july = (ee.ImageCollection('COPERNICUS/S1_GRD_FLOAT')\n",
    "                .filterBounds(aoi)\n",
    "                .filterDate(ee.Date('2019-07-01'),ee.Date('2019-07-10'))\n",
    "                .sort('system:time_start'))\n",
    "s1_august = (ee.ImageCollection('COPERNICUS/S1_GRD_FLOAT')\n",
    "                .filterBounds(aoi)\n",
    "                .filterDate(ee.Date('2019-08-21'),ee.Date('2019-08-30'))\n",
    "                .sort('system:time_start'))\n",
    "fe_coll=ee.FeatureCollection('COPERNICUS/S1_GRD_FLOAT')"
   ]
  },
  {
   "cell_type": "code",
   "execution_count": 57,
   "id": "87840a19",
   "metadata": {},
   "outputs": [
    {
     "data": {
      "text/plain": [
       "['07/06/19']"
      ]
     },
     "execution_count": 57,
     "metadata": {},
     "output_type": "execute_result"
    }
   ],
   "source": [
    "# to know the date of the image in july\n",
    "import time\n",
    "acq_times = s1_july.aggregate_array('system:time_start').getInfo()\n",
    "[time.strftime('%x', time.gmtime(acq_time/1000)) for acq_time in acq_times]"
   ]
  },
  {
   "cell_type": "code",
   "execution_count": 58,
   "id": "33258819",
   "metadata": {},
   "outputs": [
    {
     "data": {
      "text/plain": [
       "['08/23/19']"
      ]
     },
     "execution_count": 58,
     "metadata": {},
     "output_type": "execute_result"
    }
   ],
   "source": [
    "# to know the date of the image in august\n",
    "acq_times = s1_august.aggregate_array('system:time_start').getInfo()\n",
    "[time.strftime('%x', time.gmtime(acq_time/1000)) for acq_time in acq_times]"
   ]
  },
  {
   "cell_type": "code",
   "execution_count": 59,
   "id": "5d956790",
   "metadata": {},
   "outputs": [],
   "source": [
    "#to clip the s1 image of july to the aoi and selset vv and vh bands and clip them to the aoi\n",
    "s1_july_list= s1_july.toList(s1_july.size())\n",
    "s1_july_clip =ee.Image(s1_july_list.get(0)).clip(aoi)\n",
    "vv_july = ee.Image(s1_july_list.get(0)).select('VV').clip(aoi)\n",
    "vh_july = ee.Image(s1_july_list.get(0)).select('VH').clip(aoi)"
   ]
  },
  {
   "cell_type": "code",
   "execution_count": 60,
   "id": "ec60b6d6",
   "metadata": {},
   "outputs": [],
   "source": [
    "#to clip the s1 image of jaugust to the aoi and selset vv and vh bands and clip them to the aoi\n",
    "s1_august_list = s1_august.toList(s1_august.size())\n",
    "s1_august_clip =ee.Image(s1_august_list.get(0)).clip(aoi)\n",
    "vv_august = ee.Image(s1_august_list.get(0)).select('VV').clip(aoi)\n",
    "vh_august= ee.Image(s1_august_list.get(0)).select('VH').clip(aoi)"
   ]
  },
  {
   "cell_type": "code",
   "execution_count": 61,
   "id": "b148e83e",
   "metadata": {},
   "outputs": [],
   "source": [
    "#creating Radar Forest Degradtion Index for july and august\n",
    "#Radar Forest Degradtion Index = (VV-VH)/(VV+VH)\n",
    "like= 'VV'\n",
    "cross = 'VH'\n",
    "rfdi_july = s1_july_clip.normalizedDifference([like, cross])\n",
    "rfdi_august= s1_august_clip.normalizedDifference([like, cross])"
   ]
  },
  {
   "cell_type": "code",
   "execution_count": 62,
   "id": "f207a933",
   "metadata": {},
   "outputs": [
    {
     "data": {
      "text/plain": [
       "['nd']"
      ]
     },
     "execution_count": 62,
     "metadata": {},
     "output_type": "execute_result"
    }
   ],
   "source": [
    "#get the information of radar forest degredation index\n",
    "rfdi_july.bandNames().getInfo()\n",
    "rfdi_august.bandNames().getInfo()"
   ]
  },
  {
   "cell_type": "code",
   "execution_count": 63,
   "id": "24dbdb7a",
   "metadata": {},
   "outputs": [],
   "source": [
    "# histogram of the radar forest degredation index for july and august\n",
    "hist_july = rfdi_july.select('nd').reduceRegion(\n",
    "    ee.Reducer.fixedHistogram(0, 1, 500),aoi).get('nd').getInfo()\n",
    "\n",
    "hist_august = rfdi_august.select('nd').reduceRegion(\n",
    "    ee.Reducer.fixedHistogram(0, 1, 500),aoi).get('nd').getInfo()\n"
   ]
  },
  {
   "cell_type": "code",
   "execution_count": 64,
   "id": "591348eb",
   "metadata": {},
   "outputs": [
    {
     "data": {
      "image/png": "[encoded data removed]",
      "text/plain": [
       "<Figure size 432x288 with 1 Axes>"
      ]
     },
     "metadata": {
      "needs_background": "light"
     },
     "output_type": "display_data"
    }
   ],
   "source": [
    "#displaying the histogram \n",
    "a = np.array(hist_july)\n",
    "b = np.array(hist_august)\n",
    "x = a[:, 0]                \n",
    "y = a[:, 1] \n",
    "x1 = b[:, 0]                \n",
    "y1= b[:, 1]\n",
    "plt.grid()\n",
    "plt.plot(x, y,'*',label='RFDI_July')\n",
    "plt.plot(x1,y1,'.',label= 'RFDI_August')\n",
    "plt.legend()\n",
    "plt.show()"
   ]
  },
  {
   "cell_type": "code",
   "execution_count": 65,
   "id": "8e092690",
   "metadata": {},
   "outputs": [
    {
     "data": {
      "text/html": [
       "<img src=\"https://earthengine.googleapis.com/v1alpha/projects/earthengine-legacy/thumbnails/196c3856994871d0defb0349963e036a-8c1dbcef5bc4bdcd11173a3c481f0533:getPixels\" width=\"500\"/>"
      ],
      "text/plain": [
       "<IPython.core.display.Image object>"
      ]
     },
     "execution_count": 65,
     "metadata": {},
     "output_type": "execute_result"
    }
   ],
   "source": [
    "# visualizing the radar forest degredation index for july \n",
    "url = rfdi_july.getThumbURL({'min': 0.0, 'max': 1})\n",
    "disp.Image(url=url, width=500)"
   ]
  },
  {
   "cell_type": "code",
   "execution_count": 66,
   "id": "a98f3eb1",
   "metadata": {},
   "outputs": [
    {
     "data": {
      "text/html": [
       "<img src=\"https://earthengine.googleapis.com/v1alpha/projects/earthengine-legacy/thumbnails/ca44a54763fa3a74e2d165a445a60152-745d658233284aa30a9a5270cd56401c:getPixels\" width=\"500\"/>"
      ],
      "text/plain": [
       "<IPython.core.display.Image object>"
      ]
     },
     "execution_count": 66,
     "metadata": {},
     "output_type": "execute_result"
    }
   ],
   "source": [
    "# visualizing the radar forest degredation index for august \n",
    "url = rfdi_august.getThumbURL({'min': 0.0, 'max': 1})\n",
    "disp.Image(url=url, width=500)"
   ]
  },
  {
   "cell_type": "code",
   "execution_count": 67,
   "id": "094e27cd",
   "metadata": {},
   "outputs": [
    {
     "data": {
      "text/html": [
       "<img src=\"https://earthengine.googleapis.com/v1alpha/projects/earthengine-legacy/thumbnails/e74dde358a5701123cec20a8d3f95799-d8624ea606876d8d2e0c6971944d6b12:getPixels\" width=\"500\"/>"
      ],
      "text/plain": [
       "<IPython.core.display.Image object>"
      ]
     },
     "execution_count": 67,
     "metadata": {},
     "output_type": "execute_result"
    }
   ],
   "source": [
    "# the difference between the radar forest degradtion indexes for july and august\n",
    "difference = rfdi_august.subtract(rfdi_july)\n",
    "url = difference.getThumbURL({'min': -1, 'max': 1})\n",
    "disp.Image(url=url, width=500)"
   ]
  },
  {
   "cell_type": "code",
   "execution_count": 68,
   "id": "52826377",
   "metadata": {},
   "outputs": [
    {
     "data": {
      "text/html": [
       "<div style=\"width:100%;\"><div style=\"position:relative;width:100%;height:0;padding-bottom:60%;\"><span style=\"color:#565656\">Make this Notebook Trusted to load map: File -> Trust Notebook</span><iframe src=\"about:blank\" style=\"position:absolute;width:100%;height:100%;left:0;top:0;border:none !important;\" data-html=%3C%21DOCTYPE%20html%3E%0A%3Chead%3E%20%20%20%20%0A%20%20%20%20%3Cmeta%20http-equiv%3D%22content-type%22%20content%3D%22text/html%3B%20charset%3DUTF-8%22%20/%3E%0A%20%20%20%20%0A%20%20%20%20%20%20%20%20%3Cscript%3E%0A%20%20%20%20%20%20%20%20%20%20%20%20L_NO_TOUCH%20%3D%20false%3B%0A%20%20%20%20%20%20%20%20%20%20%20%20L_DISABLE_3D%20%3D%20false%3B%0A%20%20%20%20%20%20%20%20%3C/script%3E%0A%20%20%20%20%0A%20%20%20%20%3Cstyle%3Ehtml%2C%20body%20%7Bwidth%3A%20100%25%3Bheight%3A%20100%25%3Bmargin%3A%200%3Bpadding%3A%200%3B%7D%3C/style%3E%0A%20%20%20%20%3Cstyle%3E%23map%20%7Bposition%3Aabsolute%3Btop%3A0%3Bbottom%3A0%3Bright%3A0%3Bleft%3A0%3B%7D%3C/style%3E%0A%20%20%20%20%3Cscript%20src%3D%22https%3A//cdn.jsdelivr.net/npm/leaflet%401.6.0/dist/leaflet.js%22%3E%3C/script%3E%0A%20%20%20%20%3Cscript%20src%3D%22https%3A//code.jquery.com/jquery-1.12.4.min.js%22%3E%3C/script%3E%0A%20%20%20%20%3Cscript%20src%3D%22https%3A//maxcdn.bootstrapcdn.com/bootstrap/3.2.0/js/bootstrap.min.js%22%3E%3C/script%3E%0A%20%20%20%20%3Cscript%20src%3D%22https%3A//cdnjs.cloudflare.com/ajax/libs/Leaflet.awesome-markers/2.0.2/leaflet.awesome-markers.js%22%3E%3C/script%3E%0A%20%20%20%20%3Clink%20rel%3D%22stylesheet%22%20href%3D%22https%3A//cdn.jsdelivr.net/npm/leaflet%401.6.0/dist/leaflet.css%22/%3E%0A%20%20%20%20%3Clink%20rel%3D%22stylesheet%22%20href%3D%22https%3A//maxcdn.bootstrapcdn.com/bootstrap/3.2.0/css/bootstrap.min.css%22/%3E%0A%20%20%20%20%3Clink%20rel%3D%22stylesheet%22%20href%3D%22https%3A//maxcdn.bootstrapcdn.com/bootstrap/3.2.0/css/bootstrap-theme.min.css%22/%3E%0A%20%20%20%20%3Clink%20rel%3D%22stylesheet%22%20href%3D%22https%3A//maxcdn.bootstrapcdn.com/font-awesome/4.6.3/css/font-awesome.min.css%22/%3E%0A%20%20%20%20%3Clink%20rel%3D%22stylesheet%22%20href%3D%22https%3A//cdnjs.cloudflare.com/ajax/libs/Leaflet.awesome-markers/2.0.2/leaflet.awesome-markers.css%22/%3E%0A%20%20%20%20%3Clink%20rel%3D%22stylesheet%22%20href%3D%22https%3A//cdn.jsdelivr.net/gh/python-visualization/folium/folium/templates/leaflet.awesome.rotate.min.css%22/%3E%0A%20%20%20%20%0A%20%20%20%20%20%20%20%20%20%20%20%20%3Cmeta%20name%3D%22viewport%22%20content%3D%22width%3Ddevice-width%2C%0A%20%20%20%20%20%20%20%20%20%20%20%20%20%20%20%20initial-scale%3D1.0%2C%20maximum-scale%3D1.0%2C%20user-scalable%3Dno%22%20/%3E%0A%20%20%20%20%20%20%20%20%20%20%20%20%3Cstyle%3E%0A%20%20%20%20%20%20%20%20%20%20%20%20%20%20%20%20%23map_e8db01381e514f85af9f8e25143ebc89%20%7B%0A%20%20%20%20%20%20%20%20%20%20%20%20%20%20%20%20%20%20%20%20position%3A%20relative%3B%0A%20%20%20%20%20%20%20%20%20%20%20%20%20%20%20%20%20%20%20%20width%3A%20100.0%25%3B%0A%20%20%20%20%20%20%20%20%20%20%20%20%20%20%20%20%20%20%20%20height%3A%20100.0%25%3B%0A%20%20%20%20%20%20%20%20%20%20%20%20%20%20%20%20%20%20%20%20left%3A%200.0%25%3B%0A%20%20%20%20%20%20%20%20%20%20%20%20%20%20%20%20%20%20%20%20top%3A%200.0%25%3B%0A%20%20%20%20%20%20%20%20%20%20%20%20%20%20%20%20%7D%0A%20%20%20%20%20%20%20%20%20%20%20%20%3C/style%3E%0A%20%20%20%20%20%20%20%20%0A%3C/head%3E%0A%3Cbody%3E%20%20%20%20%0A%20%20%20%20%0A%20%20%20%20%20%20%20%20%20%20%20%20%3Cdiv%20class%3D%22folium-map%22%20id%3D%22map_e8db01381e514f85af9f8e25143ebc89%22%20%3E%3C/div%3E%0A%20%20%20%20%20%20%20%20%0A%3C/body%3E%0A%3Cscript%3E%20%20%20%20%0A%20%20%20%20%0A%20%20%20%20%20%20%20%20%20%20%20%20var%20map_e8db01381e514f85af9f8e25143ebc89%20%3D%20L.map%28%0A%20%20%20%20%20%20%20%20%20%20%20%20%20%20%20%20%22map_e8db01381e514f85af9f8e25143ebc89%22%2C%0A%20%20%20%20%20%20%20%20%20%20%20%20%20%20%20%20%7B%0A%20%20%20%20%20%20%20%20%20%20%20%20%20%20%20%20%20%20%20%20center%3A%20%5B-0.6850650175328027%2C%20116.46264800000104%5D%2C%0A%20%20%20%20%20%20%20%20%20%20%20%20%20%20%20%20%20%20%20%20crs%3A%20L.CRS.EPSG3857%2C%0A%20%20%20%20%20%20%20%20%20%20%20%20%20%20%20%20%20%20%20%20zoom%3A%2013%2C%0A%20%20%20%20%20%20%20%20%20%20%20%20%20%20%20%20%20%20%20%20zoomControl%3A%20true%2C%0A%20%20%20%20%20%20%20%20%20%20%20%20%20%20%20%20%20%20%20%20preferCanvas%3A%20false%2C%0A%20%20%20%20%20%20%20%20%20%20%20%20%20%20%20%20%7D%0A%20%20%20%20%20%20%20%20%20%20%20%20%29%3B%0A%0A%20%20%20%20%20%20%20%20%20%20%20%20%0A%0A%20%20%20%20%20%20%20%20%0A%20%20%20%20%0A%20%20%20%20%20%20%20%20%20%20%20%20var%20tile_layer_1749c21c3ccf4d6a9af7a7c397b7365b%20%3D%20L.tileLayer%28%0A%20%20%20%20%20%20%20%20%20%20%20%20%20%20%20%20%22https%3A//stamen-tiles-%7Bs%7D.a.ssl.fastly.net/toner/%7Bz%7D/%7Bx%7D/%7By%7D.png%22%2C%0A%20%20%20%20%20%20%20%20%20%20%20%20%20%20%20%20%7B%22attribution%22%3A%20%22Map%20tiles%20by%20%5Cu003ca%20href%3D%5C%22http%3A//stamen.com%5C%22%5Cu003eStamen%20Design%5Cu003c/a%5Cu003e%2C%20under%20%5Cu003ca%20href%3D%5C%22http%3A//creativecommons.org/licenses/by/3.0%5C%22%5Cu003eCC%20BY%203.0%5Cu003c/a%5Cu003e.%20Data%20by%20%5Cu0026copy%3B%20%5Cu003ca%20href%3D%5C%22http%3A//openstreetmap.org%5C%22%5Cu003eOpenStreetMap%5Cu003c/a%5Cu003e%2C%20under%20%5Cu003ca%20href%3D%5C%22http%3A//www.openstreetmap.org/copyright%5C%22%5Cu003eODbL%5Cu003c/a%5Cu003e.%22%2C%20%22detectRetina%22%3A%20false%2C%20%22maxNativeZoom%22%3A%2018%2C%20%22maxZoom%22%3A%2018%2C%20%22minZoom%22%3A%200%2C%20%22noWrap%22%3A%20false%2C%20%22opacity%22%3A%201%2C%20%22subdomains%22%3A%20%22abc%22%2C%20%22tms%22%3A%20false%7D%0A%20%20%20%20%20%20%20%20%20%20%20%20%29.addTo%28map_e8db01381e514f85af9f8e25143ebc89%29%3B%0A%20%20%20%20%20%20%20%20%0A%20%20%20%20%0A%20%20%20%20%20%20%20%20%20%20%20%20var%20tile_layer_ae325fdfd57b4ff1a6fdeba2a4f1296a%20%3D%20L.tileLayer%28%0A%20%20%20%20%20%20%20%20%20%20%20%20%20%20%20%20%22https%3A//%7Bs%7D.tile.openstreetmap.org/%7Bz%7D/%7Bx%7D/%7By%7D.png%22%2C%0A%20%20%20%20%20%20%20%20%20%20%20%20%20%20%20%20%7B%22attribution%22%3A%20%22Data%20by%20%5Cu0026copy%3B%20%5Cu003ca%20href%3D%5C%22http%3A//openstreetmap.org%5C%22%5Cu003eOpenStreetMap%5Cu003c/a%5Cu003e%2C%20under%20%5Cu003ca%20href%3D%5C%22http%3A//www.openstreetmap.org/copyright%5C%22%5Cu003eODbL%5Cu003c/a%5Cu003e.%22%2C%20%22detectRetina%22%3A%20false%2C%20%22maxNativeZoom%22%3A%2018%2C%20%22maxZoom%22%3A%2018%2C%20%22minZoom%22%3A%200%2C%20%22noWrap%22%3A%20false%2C%20%22opacity%22%3A%201%2C%20%22subdomains%22%3A%20%22abc%22%2C%20%22tms%22%3A%20false%7D%0A%20%20%20%20%20%20%20%20%20%20%20%20%29.addTo%28map_e8db01381e514f85af9f8e25143ebc89%29%3B%0A%20%20%20%20%20%20%20%20%0A%20%20%20%20%0A%20%20%20%20%20%20%20%20%20%20%20%20var%20tile_layer_c95ac7054e8f4725961df4082e41a917%20%3D%20L.tileLayer%28%0A%20%20%20%20%20%20%20%20%20%20%20%20%20%20%20%20%22https%3A//earthengine.googleapis.com/v1alpha/projects/earthengine-legacy/maps/7bc70ce4c2540f4dda97ae67d34f1bdc-8ae6791317930be4fbac07033eabe636/tiles/%7Bz%7D/%7Bx%7D/%7By%7D%22%2C%0A%20%20%20%20%20%20%20%20%20%20%20%20%20%20%20%20%7B%22attribution%22%3A%20%22Map%20Data%20%5Cu0026copy%3B%20%5Cu003ca%20href%3D%5C%22https%3A//earthengine.google.com/%5C%22%5Cu003eGoogle%20Earth%20Engine%5Cu003c/a%5Cu003e%22%2C%20%22detectRetina%22%3A%20false%2C%20%22maxNativeZoom%22%3A%2018%2C%20%22maxZoom%22%3A%2018%2C%20%22minZoom%22%3A%200%2C%20%22noWrap%22%3A%20false%2C%20%22opacity%22%3A%201%2C%20%22subdomains%22%3A%20%22abc%22%2C%20%22tms%22%3A%20false%7D%0A%20%20%20%20%20%20%20%20%20%20%20%20%29.addTo%28map_e8db01381e514f85af9f8e25143ebc89%29%3B%0A%20%20%20%20%20%20%20%20%0A%20%20%20%20%0A%20%20%20%20%20%20%20%20%20%20%20%20var%20layer_control_88ec5efa58bf4b7baefdcf5290c8c0e6%20%3D%20%7B%0A%20%20%20%20%20%20%20%20%20%20%20%20%20%20%20%20base_layers%20%3A%20%7B%0A%20%20%20%20%20%20%20%20%20%20%20%20%20%20%20%20%20%20%20%20%22stamentoner%22%20%3A%20tile_layer_1749c21c3ccf4d6a9af7a7c397b7365b%2C%0A%20%20%20%20%20%20%20%20%20%20%20%20%20%20%20%20%20%20%20%20%22openstreetmap%22%20%3A%20tile_layer_ae325fdfd57b4ff1a6fdeba2a4f1296a%2C%0A%20%20%20%20%20%20%20%20%20%20%20%20%20%20%20%20%7D%2C%0A%20%20%20%20%20%20%20%20%20%20%20%20%20%20%20%20overlays%20%3A%20%20%7B%0A%20%20%20%20%20%20%20%20%20%20%20%20%20%20%20%20%20%20%20%20%22Change%20Map%22%20%3A%20tile_layer_c95ac7054e8f4725961df4082e41a917%2C%0A%20%20%20%20%20%20%20%20%20%20%20%20%20%20%20%20%7D%2C%0A%20%20%20%20%20%20%20%20%20%20%20%20%7D%3B%0A%20%20%20%20%20%20%20%20%20%20%20%20L.control.layers%28%0A%20%20%20%20%20%20%20%20%20%20%20%20%20%20%20%20layer_control_88ec5efa58bf4b7baefdcf5290c8c0e6.base_layers%2C%0A%20%20%20%20%20%20%20%20%20%20%20%20%20%20%20%20layer_control_88ec5efa58bf4b7baefdcf5290c8c0e6.overlays%2C%0A%20%20%20%20%20%20%20%20%20%20%20%20%20%20%20%20%7B%22autoZIndex%22%3A%20true%2C%20%22collapsed%22%3A%20true%2C%20%22position%22%3A%20%22topright%22%7D%0A%20%20%20%20%20%20%20%20%20%20%20%20%29.addTo%28map_e8db01381e514f85af9f8e25143ebc89%29%3B%0A%20%20%20%20%20%20%20%20%20%20%20%20tile_layer_ae325fdfd57b4ff1a6fdeba2a4f1296a.remove%28%29%3B%0A%20%20%20%20%20%20%20%20%0A%3C/script%3E onload=\"this.contentDocument.open();this.contentDocument.write(    decodeURIComponent(this.getAttribute('data-html')));this.contentDocument.close();\" allowfullscreen webkitallowfullscreen mozallowfullscreen></iframe></div></div>"
      ],
      "text/plain": [
       "<folium.folium.Map at 0x7f39625ce0a0>"
      ]
     },
     "metadata": {},
     "output_type": "display_data"
    }
   ],
   "source": [
    "#to visualize deforestration regions (july)where RFDI is larger than 0.9 and degradtion regions where RFDI is 0.4 and dense forest regions where RFDI is less than 0.3\n",
    "rfdi_july_1 = ee.Image(1) \\\n",
    "          .where(rfdi_july .gt(0.0).And(rfdi_july.lte(0.3)), 2) \\\n",
    "          .where(rfdi_july .gt(0.3).And(rfdi_july.lte(0.9)), 3) \\\n",
    "          .where(rfdi_july .gt(0.9), 4)\n",
    "\n",
    "#display over earth map\n",
    "\n",
    "location = aoi.centroid().coordinates().getInfo()[::-1]\n",
    "mp = folium.Map(\n",
    "    location=location, tiles='Stamen Toner',\n",
    "    zoom_start=13)\n",
    "folium.TileLayer('OpenStreetMap').add_to(mp)\n",
    "mp.add_ee_layer(rfdi_july_1,\n",
    "                {'min': 0, 'max': 4, 'palette': ['#654321','#FFA500','#FFFF00', '#00FF00', 'red']},\n",
    "                'Change Map')\n",
    "\n",
    "mp.add_child(folium.LayerControl())\n",
    "\n",
    "display(mp)\n"
   ]
  },
  {
   "cell_type": "code",
   "execution_count": 69,
   "id": "1006f219",
   "metadata": {},
   "outputs": [
    {
     "data": {
      "text/html": [
       "<div style=\"width:100%;\"><div style=\"position:relative;width:100%;height:0;padding-bottom:60%;\"><span style=\"color:#565656\">Make this Notebook Trusted to load map: File -> Trust Notebook</span><iframe src=\"about:blank\" style=\"position:absolute;width:100%;height:100%;left:0;top:0;border:none !important;\" data-html=%3C%21DOCTYPE%20html%3E%0A%3Chead%3E%20%20%20%20%0A%20%20%20%20%3Cmeta%20http-equiv%3D%22content-type%22%20content%3D%22text/html%3B%20charset%3DUTF-8%22%20/%3E%0A%20%20%20%20%0A%20%20%20%20%20%20%20%20%3Cscript%3E%0A%20%20%20%20%20%20%20%20%20%20%20%20L_NO_TOUCH%20%3D%20false%3B%0A%20%20%20%20%20%20%20%20%20%20%20%20L_DISABLE_3D%20%3D%20false%3B%0A%20%20%20%20%20%20%20%20%3C/script%3E%0A%20%20%20%20%0A%20%20%20%20%3Cstyle%3Ehtml%2C%20body%20%7Bwidth%3A%20100%25%3Bheight%3A%20100%25%3Bmargin%3A%200%3Bpadding%3A%200%3B%7D%3C/style%3E%0A%20%20%20%20%3Cstyle%3E%23map%20%7Bposition%3Aabsolute%3Btop%3A0%3Bbottom%3A0%3Bright%3A0%3Bleft%3A0%3B%7D%3C/style%3E%0A%20%20%20%20%3Cscript%20src%3D%22https%3A//cdn.jsdelivr.net/npm/leaflet%401.6.0/dist/leaflet.js%22%3E%3C/script%3E%0A%20%20%20%20%3Cscript%20src%3D%22https%3A//code.jquery.com/jquery-1.12.4.min.js%22%3E%3C/script%3E%0A%20%20%20%20%3Cscript%20src%3D%22https%3A//maxcdn.bootstrapcdn.com/bootstrap/3.2.0/js/bootstrap.min.js%22%3E%3C/script%3E%0A%20%20%20%20%3Cscript%20src%3D%22https%3A//cdnjs.cloudflare.com/ajax/libs/Leaflet.awesome-markers/2.0.2/leaflet.awesome-markers.js%22%3E%3C/script%3E%0A%20%20%20%20%3Clink%20rel%3D%22stylesheet%22%20href%3D%22https%3A//cdn.jsdelivr.net/npm/leaflet%401.6.0/dist/leaflet.css%22/%3E%0A%20%20%20%20%3Clink%20rel%3D%22stylesheet%22%20href%3D%22https%3A//maxcdn.bootstrapcdn.com/bootstrap/3.2.0/css/bootstrap.min.css%22/%3E%0A%20%20%20%20%3Clink%20rel%3D%22stylesheet%22%20href%3D%22https%3A//maxcdn.bootstrapcdn.com/bootstrap/3.2.0/css/bootstrap-theme.min.css%22/%3E%0A%20%20%20%20%3Clink%20rel%3D%22stylesheet%22%20href%3D%22https%3A//maxcdn.bootstrapcdn.com/font-awesome/4.6.3/css/font-awesome.min.css%22/%3E%0A%20%20%20%20%3Clink%20rel%3D%22stylesheet%22%20href%3D%22https%3A//cdnjs.cloudflare.com/ajax/libs/Leaflet.awesome-markers/2.0.2/leaflet.awesome-markers.css%22/%3E%0A%20%20%20%20%3Clink%20rel%3D%22stylesheet%22%20href%3D%22https%3A//cdn.jsdelivr.net/gh/python-visualization/folium/folium/templates/leaflet.awesome.rotate.min.css%22/%3E%0A%20%20%20%20%0A%20%20%20%20%20%20%20%20%20%20%20%20%3Cmeta%20name%3D%22viewport%22%20content%3D%22width%3Ddevice-width%2C%0A%20%20%20%20%20%20%20%20%20%20%20%20%20%20%20%20initial-scale%3D1.0%2C%20maximum-scale%3D1.0%2C%20user-scalable%3Dno%22%20/%3E%0A%20%20%20%20%20%20%20%20%20%20%20%20%3Cstyle%3E%0A%20%20%20%20%20%20%20%20%20%20%20%20%20%20%20%20%23map_88201e5d7ce44654a6f75fd92f7526b1%20%7B%0A%20%20%20%20%20%20%20%20%20%20%20%20%20%20%20%20%20%20%20%20position%3A%20relative%3B%0A%20%20%20%20%20%20%20%20%20%20%20%20%20%20%20%20%20%20%20%20width%3A%20100.0%25%3B%0A%20%20%20%20%20%20%20%20%20%20%20%20%20%20%20%20%20%20%20%20height%3A%20100.0%25%3B%0A%20%20%20%20%20%20%20%20%20%20%20%20%20%20%20%20%20%20%20%20left%3A%200.0%25%3B%0A%20%20%20%20%20%20%20%20%20%20%20%20%20%20%20%20%20%20%20%20top%3A%200.0%25%3B%0A%20%20%20%20%20%20%20%20%20%20%20%20%20%20%20%20%7D%0A%20%20%20%20%20%20%20%20%20%20%20%20%3C/style%3E%0A%20%20%20%20%20%20%20%20%0A%3C/head%3E%0A%3Cbody%3E%20%20%20%20%0A%20%20%20%20%0A%20%20%20%20%20%20%20%20%20%20%20%20%3Cdiv%20class%3D%22folium-map%22%20id%3D%22map_88201e5d7ce44654a6f75fd92f7526b1%22%20%3E%3C/div%3E%0A%20%20%20%20%20%20%20%20%0A%3C/body%3E%0A%3Cscript%3E%20%20%20%20%0A%20%20%20%20%0A%20%20%20%20%20%20%20%20%20%20%20%20var%20map_88201e5d7ce44654a6f75fd92f7526b1%20%3D%20L.map%28%0A%20%20%20%20%20%20%20%20%20%20%20%20%20%20%20%20%22map_88201e5d7ce44654a6f75fd92f7526b1%22%2C%0A%20%20%20%20%20%20%20%20%20%20%20%20%20%20%20%20%7B%0A%20%20%20%20%20%20%20%20%20%20%20%20%20%20%20%20%20%20%20%20center%3A%20%5B-0.6850650175328027%2C%20116.46264800000104%5D%2C%0A%20%20%20%20%20%20%20%20%20%20%20%20%20%20%20%20%20%20%20%20crs%3A%20L.CRS.EPSG3857%2C%0A%20%20%20%20%20%20%20%20%20%20%20%20%20%20%20%20%20%20%20%20zoom%3A%2013%2C%0A%20%20%20%20%20%20%20%20%20%20%20%20%20%20%20%20%20%20%20%20zoomControl%3A%20true%2C%0A%20%20%20%20%20%20%20%20%20%20%20%20%20%20%20%20%20%20%20%20preferCanvas%3A%20false%2C%0A%20%20%20%20%20%20%20%20%20%20%20%20%20%20%20%20%7D%0A%20%20%20%20%20%20%20%20%20%20%20%20%29%3B%0A%0A%20%20%20%20%20%20%20%20%20%20%20%20%0A%0A%20%20%20%20%20%20%20%20%0A%20%20%20%20%0A%20%20%20%20%20%20%20%20%20%20%20%20var%20tile_layer_1cda0c095be9476d99b7cf7710be7030%20%3D%20L.tileLayer%28%0A%20%20%20%20%20%20%20%20%20%20%20%20%20%20%20%20%22https%3A//stamen-tiles-%7Bs%7D.a.ssl.fastly.net/toner/%7Bz%7D/%7Bx%7D/%7By%7D.png%22%2C%0A%20%20%20%20%20%20%20%20%20%20%20%20%20%20%20%20%7B%22attribution%22%3A%20%22Map%20tiles%20by%20%5Cu003ca%20href%3D%5C%22http%3A//stamen.com%5C%22%5Cu003eStamen%20Design%5Cu003c/a%5Cu003e%2C%20under%20%5Cu003ca%20href%3D%5C%22http%3A//creativecommons.org/licenses/by/3.0%5C%22%5Cu003eCC%20BY%203.0%5Cu003c/a%5Cu003e.%20Data%20by%20%5Cu0026copy%3B%20%5Cu003ca%20href%3D%5C%22http%3A//openstreetmap.org%5C%22%5Cu003eOpenStreetMap%5Cu003c/a%5Cu003e%2C%20under%20%5Cu003ca%20href%3D%5C%22http%3A//www.openstreetmap.org/copyright%5C%22%5Cu003eODbL%5Cu003c/a%5Cu003e.%22%2C%20%22detectRetina%22%3A%20false%2C%20%22maxNativeZoom%22%3A%2018%2C%20%22maxZoom%22%3A%2018%2C%20%22minZoom%22%3A%200%2C%20%22noWrap%22%3A%20false%2C%20%22opacity%22%3A%201%2C%20%22subdomains%22%3A%20%22abc%22%2C%20%22tms%22%3A%20false%7D%0A%20%20%20%20%20%20%20%20%20%20%20%20%29.addTo%28map_88201e5d7ce44654a6f75fd92f7526b1%29%3B%0A%20%20%20%20%20%20%20%20%0A%20%20%20%20%0A%20%20%20%20%20%20%20%20%20%20%20%20var%20tile_layer_3a317939540f4fd998357273b873c5d5%20%3D%20L.tileLayer%28%0A%20%20%20%20%20%20%20%20%20%20%20%20%20%20%20%20%22https%3A//%7Bs%7D.tile.openstreetmap.org/%7Bz%7D/%7Bx%7D/%7By%7D.png%22%2C%0A%20%20%20%20%20%20%20%20%20%20%20%20%20%20%20%20%7B%22attribution%22%3A%20%22Data%20by%20%5Cu0026copy%3B%20%5Cu003ca%20href%3D%5C%22http%3A//openstreetmap.org%5C%22%5Cu003eOpenStreetMap%5Cu003c/a%5Cu003e%2C%20under%20%5Cu003ca%20href%3D%5C%22http%3A//www.openstreetmap.org/copyright%5C%22%5Cu003eODbL%5Cu003c/a%5Cu003e.%22%2C%20%22detectRetina%22%3A%20false%2C%20%22maxNativeZoom%22%3A%2018%2C%20%22maxZoom%22%3A%2018%2C%20%22minZoom%22%3A%200%2C%20%22noWrap%22%3A%20false%2C%20%22opacity%22%3A%201%2C%20%22subdomains%22%3A%20%22abc%22%2C%20%22tms%22%3A%20false%7D%0A%20%20%20%20%20%20%20%20%20%20%20%20%29.addTo%28map_88201e5d7ce44654a6f75fd92f7526b1%29%3B%0A%20%20%20%20%20%20%20%20%0A%20%20%20%20%0A%20%20%20%20%20%20%20%20%20%20%20%20var%20tile_layer_9602fada485d40c7bf314050f1325873%20%3D%20L.tileLayer%28%0A%20%20%20%20%20%20%20%20%20%20%20%20%20%20%20%20%22https%3A//earthengine.googleapis.com/v1alpha/projects/earthengine-legacy/maps/e87460210e5b91338d36ca1f71c5ba54-466c09e0e70b3c0ac8f8e202aa57f683/tiles/%7Bz%7D/%7Bx%7D/%7By%7D%22%2C%0A%20%20%20%20%20%20%20%20%20%20%20%20%20%20%20%20%7B%22attribution%22%3A%20%22Map%20Data%20%5Cu0026copy%3B%20%5Cu003ca%20href%3D%5C%22https%3A//earthengine.google.com/%5C%22%5Cu003eGoogle%20Earth%20Engine%5Cu003c/a%5Cu003e%22%2C%20%22detectRetina%22%3A%20false%2C%20%22maxNativeZoom%22%3A%2018%2C%20%22maxZoom%22%3A%2018%2C%20%22minZoom%22%3A%200%2C%20%22noWrap%22%3A%20false%2C%20%22opacity%22%3A%201%2C%20%22subdomains%22%3A%20%22abc%22%2C%20%22tms%22%3A%20false%7D%0A%20%20%20%20%20%20%20%20%20%20%20%20%29.addTo%28map_88201e5d7ce44654a6f75fd92f7526b1%29%3B%0A%20%20%20%20%20%20%20%20%0A%20%20%20%20%0A%20%20%20%20%20%20%20%20%20%20%20%20var%20layer_control_05ff20c8ab404424bb0435f44785dd79%20%3D%20%7B%0A%20%20%20%20%20%20%20%20%20%20%20%20%20%20%20%20base_layers%20%3A%20%7B%0A%20%20%20%20%20%20%20%20%20%20%20%20%20%20%20%20%20%20%20%20%22stamentoner%22%20%3A%20tile_layer_1cda0c095be9476d99b7cf7710be7030%2C%0A%20%20%20%20%20%20%20%20%20%20%20%20%20%20%20%20%20%20%20%20%22openstreetmap%22%20%3A%20tile_layer_3a317939540f4fd998357273b873c5d5%2C%0A%20%20%20%20%20%20%20%20%20%20%20%20%20%20%20%20%7D%2C%0A%20%20%20%20%20%20%20%20%20%20%20%20%20%20%20%20overlays%20%3A%20%20%7B%0A%20%20%20%20%20%20%20%20%20%20%20%20%20%20%20%20%20%20%20%20%22Change%20Map%22%20%3A%20tile_layer_9602fada485d40c7bf314050f1325873%2C%0A%20%20%20%20%20%20%20%20%20%20%20%20%20%20%20%20%7D%2C%0A%20%20%20%20%20%20%20%20%20%20%20%20%7D%3B%0A%20%20%20%20%20%20%20%20%20%20%20%20L.control.layers%28%0A%20%20%20%20%20%20%20%20%20%20%20%20%20%20%20%20layer_control_05ff20c8ab404424bb0435f44785dd79.base_layers%2C%0A%20%20%20%20%20%20%20%20%20%20%20%20%20%20%20%20layer_control_05ff20c8ab404424bb0435f44785dd79.overlays%2C%0A%20%20%20%20%20%20%20%20%20%20%20%20%20%20%20%20%7B%22autoZIndex%22%3A%20true%2C%20%22collapsed%22%3A%20true%2C%20%22position%22%3A%20%22topright%22%7D%0A%20%20%20%20%20%20%20%20%20%20%20%20%29.addTo%28map_88201e5d7ce44654a6f75fd92f7526b1%29%3B%0A%20%20%20%20%20%20%20%20%20%20%20%20tile_layer_3a317939540f4fd998357273b873c5d5.remove%28%29%3B%0A%20%20%20%20%20%20%20%20%0A%3C/script%3E onload=\"this.contentDocument.open();this.contentDocument.write(    decodeURIComponent(this.getAttribute('data-html')));this.contentDocument.close();\" allowfullscreen webkitallowfullscreen mozallowfullscreen></iframe></div></div>"
      ],
      "text/plain": [
       "<folium.folium.Map at 0x7f39625da1f0>"
      ]
     },
     "metadata": {},
     "output_type": "display_data"
    }
   ],
   "source": [
    "#to visualize deforestration regions (august) where RFDI is larger than 0.9 and degradtion regions where RFDI is 0.4 and dense forest regions where RFDI is less than 0.3\n",
    "rfdi_august_1 = ee.Image(1) \\\n",
    "          .where(rfdi_august .gt(0.0).And(rfdi_august.lte(0.3)), 2) \\\n",
    "          .where(rfdi_august .gt(0.3).And(rfdi_august.lte(0.9)), 3) \\\n",
    "          .where(rfdi_august .gt(0.9), 4)\n",
    "\n",
    "#display over earth map\n",
    "\n",
    "location = aoi.centroid().coordinates().getInfo()[::-1]\n",
    "mp = folium.Map(\n",
    "    location=location, tiles='Stamen Toner',\n",
    "    zoom_start=13)\n",
    "folium.TileLayer('OpenStreetMap').add_to(mp)\n",
    "mp.add_ee_layer(rfdi_august_1,\n",
    "                {'min': 0, 'max': 4, 'palette': ['#654321','#FFA500','#FFFF00', '#00FF00', 'red']},\n",
    "                'Change Map')\n",
    "\n",
    "mp.add_child(folium.LayerControl())\n",
    "\n",
    "display(mp)"
   ]
  },
  {
   "cell_type": "code",
   "execution_count": 70,
   "id": "4f311139",
   "metadata": {},
   "outputs": [
    {
     "data": {
      "text/html": [
       "<img src=\"https://earthengine.googleapis.com/v1alpha/projects/earthengine-legacy/thumbnails/f4f9a29c7d1cb3d38f86c2c32e600afc-1a7738180873ac09ff077bbe48b3547f:getPixels\" width=\"800\"/>"
      ],
      "text/plain": [
       "<IPython.core.display.Image object>"
      ]
     },
     "execution_count": 70,
     "metadata": {},
     "output_type": "execute_result"
    }
   ],
   "source": [
    "#masking the deforestration regions (july) where RDFI is larger than 0.9\n",
    "rfdi_july_mask = rfdi_july.updateMask(rfdi_july.gt(0.90))\n",
    "#visualize the maked map\n",
    "url = rfdi_july_mask.getThumbURL({'min': 0.90, 'max': 1})\n",
    "disp.Image(url=url, width=800)"
   ]
  },
  {
   "cell_type": "code",
   "execution_count": 71,
   "id": "6e50eb6b",
   "metadata": {},
   "outputs": [
    {
     "data": {
      "text/html": [
       "<img src=\"https://earthengine.googleapis.com/v1alpha/projects/earthengine-legacy/thumbnails/b56133993b4bcbe836b1a5781b45f5ef-122125e59b05ed3c7d56f7ee81a54fd0:getPixels\" width=\"800\"/>"
      ],
      "text/plain": [
       "<IPython.core.display.Image object>"
      ]
     },
     "execution_count": 71,
     "metadata": {},
     "output_type": "execute_result"
    }
   ],
   "source": [
    "#masking the deforestration regions (august) where RDFI is larger than 0.9\n",
    "rfdi_august_mask = rfdi_august.updateMask(rfdi_august.gt(0.90))\n",
    "#visualize the maked map\n",
    "url = rfdi_august_mask.getThumbURL({'min': 0.90, 'max': 1})\n",
    "disp.Image(url=url, width=800)"
   ]
  },
  {
   "cell_type": "code",
   "execution_count": 72,
   "id": "b06b4fa7",
   "metadata": {},
   "outputs": [
    {
     "data": {
      "text/plain": [
       "<bound method Collection.getInfo of <ee.featurecollection.FeatureCollection object at 0x7f3960cd3f70>>"
      ]
     },
     "execution_count": 72,
     "metadata": {},
     "output_type": "execute_result"
    }
   ],
   "source": [
    "#converting the masked raster to vector (july)\n",
    "#converting the raster from float to integer\n",
    "rfdi_july_mask_int = rfdi_july_mask.toInt()\n",
    "scale_to_use = rfdi_july_mask_int.projection().nominalScale()\n",
    "\n",
    "rfdi_july_vector = rfdi_july_mask_int.reduceToVectors(\n",
    "  reducer = ee.Reducer.countEvery(),\n",
    "  geometry= aoi,\n",
    "  scale=scale_to_use,\n",
    "  geometryType= 'centroid',\n",
    "  labelProperty = 'deforestration',\n",
    "  eightConnected= False    \n",
    ")\n",
    "#getting the information of the vector\n",
    "rfdi_july_vector.getInfo"
   ]
  },
  {
   "cell_type": "code",
   "execution_count": 73,
   "id": "d34e04ce",
   "metadata": {
    "scrolled": true
   },
   "outputs": [
    {
     "data": {
      "application/vnd.jupyter.widget-view+json": {
       "model_id": "a0128e3b24a84808bc054d7b3dbcc3fa",
       "version_major": 2,
       "version_minor": 0
      },
      "text/plain": [
       "Map(center=[20, 0], controls=(WidgetControl(options=['position', 'transparent_bg'], widget=HBox(children=(Togg…"
      ]
     },
     "metadata": {},
     "output_type": "display_data"
    }
   ],
   "source": [
    "# Display the vector of deforestration regions in july.\n",
    "Map = geemap.Map()\n",
    "Map.addLayer(rfdi_july_vector, {}, 'default display')\n",
    "Map"
   ]
  },
  {
   "cell_type": "code",
   "execution_count": 74,
   "id": "eb196753",
   "metadata": {
    "scrolled": false
   },
   "outputs": [
    {
     "data": {
      "text/plain": [
       "<bound method Collection.getInfo of <ee.featurecollection.FeatureCollection object at 0x7f3960c0a190>>"
      ]
     },
     "execution_count": 74,
     "metadata": {},
     "output_type": "execute_result"
    }
   ],
   "source": [
    "#converting the masked raster to vector (august)\n",
    "#converting the raster from float to integer\n",
    "rfdi_august_mask_int = rfdi_august_mask.toInt()\n",
    "scale_to_use = rfdi_august_mask_int.projection().nominalScale()\n",
    "\n",
    "rfdi_august_vector = rfdi_august_mask_int.reduceToVectors(\n",
    "  reducer = ee.Reducer.countEvery(),\n",
    "  geometry= aoi,\n",
    "  scale=scale_to_use,\n",
    "  geometryType= 'centroid',\n",
    "  labelProperty = 'deforestration',\n",
    "  eightConnected= False    \n",
    ")\n",
    "#getting the information of the vector\n",
    "rfdi_august_vector.getInfo"
   ]
  },
  {
   "cell_type": "code",
   "execution_count": 75,
   "id": "5f9a671b",
   "metadata": {
    "scrolled": true
   },
   "outputs": [
    {
     "data": {
      "application/vnd.jupyter.widget-view+json": {
       "model_id": "a0128e3b24a84808bc054d7b3dbcc3fa",
       "version_major": 2,
       "version_minor": 0
      },
      "text/plain": [
       "Map(bottom=754.0, center=[20, 0], controls=(WidgetControl(options=['position', 'transparent_bg'], widget=HBox(…"
      ]
     },
     "metadata": {},
     "output_type": "display_data"
    }
   ],
   "source": [
    "# Display the vector of deforestration regions in august\n",
    "Map.addLayer(rfdi_august_vector, {}, 'default display')\n",
    "Map"
   ]
  },
  {
   "cell_type": "code",
   "execution_count": 76,
   "id": "5d4880c4",
   "metadata": {},
   "outputs": [],
   "source": [
    "#writting the vector of deforestration regions(july) to the drive in Geojson format\n",
    "\n",
    "task = ee.batch.Export.table.toDrive(collection= rfdi_july_vector,\n",
    "                                  description= 'Deforestration in July',\n",
    "                                  fileFormat= 'GeoJSON')\n",
    "                                \n",
    "task.start()"
   ]
  },
  {
   "cell_type": "code",
   "execution_count": 77,
   "id": "2a5f8d11",
   "metadata": {},
   "outputs": [],
   "source": [
    "#writting the vector of deforestration regions(august) to the drive in Geojson format\n",
    "\n",
    "task = ee.batch.Export.table.toDrive(collection= rfdi_august_vector,\n",
    "                                  description= 'Deforestration in august',\n",
    "                                  fileFormat= 'GeoJSON')\n",
    "                                \n",
    "task.start()"
   ]
  },
  {
   "cell_type": "code",
   "execution_count": 78,
   "id": "e8aca220",
   "metadata": {},
   "outputs": [],
   "source": [
    "#for validation, NDVI from Sentinel 2 was used\n",
    "#computing the NDVI\n",
    "#filtering the sentinel images according to the date and the AOI for july\n",
    "s2_july = (ee.ImageCollection('COPERNICUS/S2')\n",
    "        .filterDate('2019-07-01', '2019-07-10')\n",
    "        .filterBounds(aoi)\n",
    "        .select('B1','B2','B3','B4','B5','B6','B7','B8','B8A','B9','B11','B12'))\n",
    "#filtering the sentinel images according to the date and the AOI for august\n",
    "s2_august = (ee.ImageCollection('COPERNICUS/S2')\n",
    "        .filterDate('2019-08-21', '2019-08-30')\n",
    "        .filterBounds(aoi)\n",
    "        .select('B1','B2','B3','B4','B5','B6','B7','B8','B8A','B9','B11','B12'))\n"
   ]
  },
  {
   "cell_type": "code",
   "execution_count": 79,
   "id": "635b9864",
   "metadata": {},
   "outputs": [
    {
     "data": {
      "text/plain": [
       "['07/05/19']"
      ]
     },
     "execution_count": 79,
     "metadata": {},
     "output_type": "execute_result"
    }
   ],
   "source": [
    "#getting the date of the images after filtering them in july\n",
    "acq_times = s2_july.aggregate_array('system:time_start').getInfo()\n",
    "[time.strftime('%x', time.gmtime(acq_time/1000)) for acq_time in acq_times]"
   ]
  },
  {
   "cell_type": "code",
   "execution_count": 80,
   "id": "4eb1721d",
   "metadata": {},
   "outputs": [
    {
     "data": {
      "text/plain": [
       "['08/24/19', '08/29/19']"
      ]
     },
     "execution_count": 80,
     "metadata": {},
     "output_type": "execute_result"
    }
   ],
   "source": [
    "#getting the date of the images after filtering them in august\n",
    "acq_times = s2_august.aggregate_array('system:time_start').getInfo()\n",
    "[time.strftime('%x', time.gmtime(acq_time/1000)) for acq_time in acq_times]"
   ]
  },
  {
   "cell_type": "code",
   "execution_count": 81,
   "id": "5c9ddf8a",
   "metadata": {},
   "outputs": [
    {
     "data": {
      "text/plain": [
       "['08/24/19']"
      ]
     },
     "execution_count": 81,
     "metadata": {},
     "output_type": "execute_result"
    }
   ],
   "source": [
    "#choosing the image with date 24-08-2019 for the validation \n",
    "s2_august_mod = (ee.ImageCollection('COPERNICUS/S2')\n",
    "        .filterDate('2019-08-21', '2019-08-25')\n",
    "        .filterBounds(aoi)\n",
    "        .select('B1','B2','B3','B4','B5','B6','B7','B8','B8A','B9','B11','B12'))\n",
    "acq_times = s2_august_mod.aggregate_array('system:time_start').getInfo()\n",
    "[time.strftime('%x', time.gmtime(acq_time/1000)) for acq_time in acq_times]"
   ]
  },
  {
   "cell_type": "code",
   "execution_count": 82,
   "id": "0aaefbbc",
   "metadata": {},
   "outputs": [],
   "source": [
    "#NDVI compution for july\n",
    "s2_july_ls = s2_july.toList(s2_july.size())\n",
    "s2_july_clip =ee.Image(s2_july_ls.get(0)).clip(aoi)\n",
    "B8_band = ee.Image(s2_july_clip.get(0)).select('B8').clip(aoi) #to display the B8 band\n",
    "B4_band = ee.Image(s2_july_clip.get(0)).select('B4').clip(aoi) #to display the B4 band\n",
    "nir_7 = 'B8'\n",
    "red_7 = 'B4'\n",
    "ndvi_july = s2_july_clip .normalizedDifference([nir_7, red_7])\n",
    "#NDVI compution for august\n",
    "s2_august_ls = s2_august_mod.toList(s2_august_mod.size())\n",
    "s2_august_clip =ee.Image(s2_august_ls.get(0)).clip(aoi)\n",
    "nir_8 = 'B8'\n",
    "red_8 = 'B4'\n",
    "ndvi_august= s2_august_clip .normalizedDifference([nir_8, red_8])"
   ]
  },
  {
   "cell_type": "code",
   "execution_count": 83,
   "id": "ec64574d",
   "metadata": {},
   "outputs": [
    {
     "data": {
      "text/plain": [
       "['nd']"
      ]
     },
     "execution_count": 83,
     "metadata": {},
     "output_type": "execute_result"
    }
   ],
   "source": [
    "# getting the band names of the NDVI image of july\n",
    "ndvi_july.bandNames().getInfo()"
   ]
  },
  {
   "cell_type": "code",
   "execution_count": 84,
   "id": "d4a361bb",
   "metadata": {},
   "outputs": [
    {
     "data": {
      "text/plain": [
       "['nd']"
      ]
     },
     "execution_count": 84,
     "metadata": {},
     "output_type": "execute_result"
    }
   ],
   "source": [
    "# getting the band names of the NDVI image of august\n",
    "ndvi_august.bandNames().getInfo()"
   ]
  },
  {
   "cell_type": "code",
   "execution_count": 85,
   "id": "fd222913",
   "metadata": {},
   "outputs": [
    {
     "data": {
      "text/html": [
       "<img src=\"https://earthengine.googleapis.com/v1alpha/projects/earthengine-legacy/thumbnails/8569860a1cef0b3b6f332b0dec596f77-a9d8d0fb1a860a75e8061614d638f623:getPixels\" width=\"500\"/>"
      ],
      "text/plain": [
       "<IPython.core.display.Image object>"
      ]
     },
     "execution_count": 85,
     "metadata": {},
     "output_type": "execute_result"
    }
   ],
   "source": [
    "#display the ndvi of july\n",
    "url = ndvi_july.getThumbURL({'min': 0, 'max': 1})\n",
    "disp.Image(url=url, width=500)\n"
   ]
  },
  {
   "cell_type": "code",
   "execution_count": 86,
   "id": "92ba9477",
   "metadata": {},
   "outputs": [
    {
     "data": {
      "text/html": [
       "<img src=\"https://earthengine.googleapis.com/v1alpha/projects/earthengine-legacy/thumbnails/68474d24768449f537b57bbac3e54e49-4520e4f4360d21c4921464f0adef8f79:getPixels\" width=\"500\"/>"
      ],
      "text/plain": [
       "<IPython.core.display.Image object>"
      ]
     },
     "execution_count": 86,
     "metadata": {},
     "output_type": "execute_result"
    }
   ],
   "source": [
    "#display the ndvi of august\n",
    "url = ndvi_august.getThumbURL({'min': 0, 'max': 1})\n",
    "disp.Image(url=url, width=500)\n"
   ]
  },
  {
   "cell_type": "code",
   "execution_count": 121,
   "id": "128828cf",
   "metadata": {},
   "outputs": [
    {
     "data": {
      "application/vnd.jupyter.widget-view+json": {
       "model_id": "a0128e3b24a84808bc054d7b3dbcc3fa",
       "version_major": 2,
       "version_minor": 0
      },
      "text/plain": [
       "Map(bottom=1052683.0, center=[-0.6850650175328027, 116.46264800000104], controls=(WidgetControl(options=['posi…"
      ]
     },
     "metadata": {},
     "output_type": "display_data"
    }
   ],
   "source": [
    "#display true color composit of sentinel 2 image in july\n",
    "S2_JULY_TRUE = s2_july.median().clip(aoi)\n",
    "\n",
    "Map.addLayer(S2_JULY_TRUE,{'bands':['B4', 'B3', 'B2'], 'min':1, 'max':2000},\n",
    "             'true_s2_july')\n",
    "Map.centerObject(aoi,12)\n",
    "Map"
   ]
  },
  {
   "cell_type": "code",
   "execution_count": 130,
   "id": "08567a08",
   "metadata": {},
   "outputs": [
    {
     "data": {
      "application/vnd.jupyter.widget-view+json": {
       "model_id": "a0128e3b24a84808bc054d7b3dbcc3fa",
       "version_major": 2,
       "version_minor": 0
      },
      "text/plain": [
       "Map(bottom=2105326.0, center=[-0.6850650175328027, 116.46264800000104], controls=(WidgetControl(options=['posi…"
      ]
     },
     "metadata": {},
     "output_type": "display_data"
    }
   ],
   "source": [
    "#display true color composit of sentinel 2 image in August\n",
    "S2_august_TRUE = s2_august_mod.median().clip(aoi)\n",
    "\n",
    "Map.addLayer(S2_august_TRUE,{'bands':['B4', 'B3', 'B2'], 'min':700, 'max':2000},\n",
    "             'true_s2_august')\n",
    "Map.centerObject(aoi,12)\n",
    "Map"
   ]
  },
  {
   "cell_type": "code",
   "execution_count": 114,
   "id": "0353fb85",
   "metadata": {},
   "outputs": [
    {
     "name": "stdout",
     "output_type": "stream",
     "text": [
      "{'nd': None}\n"
     ]
    }
   ],
   "source": [
    "#set two points in the aoi to validate\n",
    "point1 = ee.Geometry.Point([-0.677,116.456])\n",
    "point2 = ee.Geometry.Point([-0.685,116.456])\n",
    "\n",
    "pixelInfo = ee.Number((rfdi_july).reduceRegion(\n",
    "  geometry = point1,\n",
    "  scale= 100,\n",
    "  maxPixels= 1e9,\n",
    "  reducer= ee.Reducer.mean()))\n",
    "\n",
    "print(pixelInfo .getInfo())\n",
    "\n"
   ]
  },
  {
   "cell_type": "code",
   "execution_count": 90,
   "id": "a550af42",
   "metadata": {},
   "outputs": [
    {
     "data": {
      "text/plain": [
       "{'nd': 5567}"
      ]
     },
     "execution_count": 90,
     "metadata": {},
     "output_type": "execute_result"
    }
   ],
   "source": [
    "#count the deforestration pixels in july\n",
    "pixel_count_july = ee.Number((rfdi_july_mask).reduceRegion(\n",
    "  geometry = aoi,\n",
    "  scale= 10,\n",
    "    maxPixels= 1e9,\n",
    "  reducer= ee.Reducer.count()))\n",
    "\n",
    "pixel_count_july.getInfo()"
   ]
  },
  {
   "cell_type": "code",
   "execution_count": 91,
   "id": "b765496a",
   "metadata": {},
   "outputs": [
    {
     "data": {
      "text/plain": [
       "{'nd': 4606}"
      ]
     },
     "execution_count": 91,
     "metadata": {},
     "output_type": "execute_result"
    }
   ],
   "source": [
    "#count the deforestration pixels in august\n",
    "pixel_count_august = ee.Number((rfdi_august_mask).reduceRegion(\n",
    "  geometry = aoi,\n",
    "  scale= 10,\n",
    "    maxPixels= 1e9,\n",
    "  reducer= ee.Reducer.count()))\n",
    "\n",
    "pixel_count_august.getInfo()"
   ]
  },
  {
   "cell_type": "code",
   "execution_count": 92,
   "id": "799870dd",
   "metadata": {},
   "outputs": [
    {
     "data": {
      "text/plain": [
       "{'nd': 71098}"
      ]
     },
     "execution_count": 92,
     "metadata": {},
     "output_type": "execute_result"
    }
   ],
   "source": [
    "#count the degradated pixels in july\n",
    "#mask the degradated pixels\n",
    "rfdi_july_mask_2 = rfdi_july.updateMask(rfdi_july.gt(0.30).And(rfdi_july.lt(0.60)))\n",
    "\n",
    "#count the pixels\n",
    "pixel_count_july_2 = ee.Number((rfdi_july_mask_2).reduceRegion(\n",
    "  geometry = aoi,\n",
    "  scale= 10,\n",
    "    maxPixels= 1e9,\n",
    "  reducer= ee.Reducer.count()))\n",
    "\n",
    "pixel_count_july_2.getInfo()"
   ]
  },
  {
   "cell_type": "code",
   "execution_count": 93,
   "id": "66751edf",
   "metadata": {},
   "outputs": [
    {
     "data": {
      "text/plain": [
       "{'nd': 77121}"
      ]
     },
     "execution_count": 93,
     "metadata": {},
     "output_type": "execute_result"
    }
   ],
   "source": [
    "#count the degradated pixels in august\n",
    "#mask the degradated pixels\n",
    "rfdi_august_mask_2 = rfdi_august.updateMask(rfdi_august.gt(0.30).And(rfdi_august.lt(0.60)))\n",
    "#count the pixels\n",
    "pixel_count_august_2 = ee.Number((rfdi_august_mask_2).reduceRegion(\n",
    "  geometry = aoi,\n",
    "  scale= 10,\n",
    "    maxPixels= 1e9,\n",
    "  reducer= ee.Reducer.count()))\n",
    "\n",
    "pixel_count_august_2.getInfo()"
   ]
  },
  {
   "cell_type": "code",
   "execution_count": 94,
   "id": "8797b54f",
   "metadata": {},
   "outputs": [],
   "source": [
    "#export the sentinel 1 raster for the deforestration in july\n",
    "task_config = {\n",
    "                'scale': 30,  \n",
    "                'fileFormat': 'GeoTIFF',\n",
    "                'region': aoi\n",
    "                }\n",
    "\n",
    "task = ee.batch.Export.image(rfdi_july, 'rfdi_July', task_config)\n",
    "\n",
    "task.start()"
   ]
  },
  {
   "cell_type": "code",
   "execution_count": 95,
   "id": "9fb26724",
   "metadata": {},
   "outputs": [],
   "source": [
    "#export the sentinel 1 raster for the deforestration in august\n",
    "task_config = {\n",
    "                'scale': 30,  \n",
    "                'fileFormat': 'GeoTIFF',\n",
    "                'region': aoi\n",
    "                }\n",
    "\n",
    "task = ee.batch.Export.image(rfdi_august, 'rfdi_august', task_config)\n",
    "\n",
    "task.start()\n"
   ]
  },
  {
   "cell_type": "code",
   "execution_count": 96,
   "id": "914ceca3",
   "metadata": {},
   "outputs": [],
   "source": [
    "# histogram of the NDVI for july and august\n",
    "hist_july_ndvi = ndvi_july.select('nd').reduceRegion(\n",
    "    ee.Reducer.fixedHistogram(0, 1, 500),aoi).get('nd').getInfo()\n",
    "\n",
    "hist_august_ndvi = ndvi_august.select('nd').reduceRegion(\n",
    "    ee.Reducer.fixedHistogram(0, 1, 500),aoi).get('nd').getInfo()"
   ]
  },
  {
   "cell_type": "code",
   "execution_count": 97,
   "id": "8bcb3387",
   "metadata": {},
   "outputs": [
    {
     "data": {
      "image/png": "[encoded data removed]",
      "text/plain": [
       "<Figure size 432x288 with 1 Axes>"
      ]
     },
     "metadata": {
      "needs_background": "light"
     },
     "output_type": "display_data"
    }
   ],
   "source": [
    "#displaying the histogram \n",
    "a = np.array(hist_july_ndvi)\n",
    "b = np.array(hist_august_ndvi)\n",
    "x = a[:, 0]                \n",
    "y = a[:, 1] \n",
    "x1 = b[:, 0]                \n",
    "y1= b[:, 1]\n",
    "plt.grid()\n",
    "plt.plot(x, y,'*',label='NDVI_July')\n",
    "plt.plot(x1,y1,'.',label= 'NDVI_August')\n",
    "plt.legend()\n",
    "plt.show()"
   ]
  },
  {
   "cell_type": "code",
   "execution_count": 98,
   "id": "212b3966",
   "metadata": {},
   "outputs": [
    {
     "ename": "FileNotFoundError",
     "evalue": "[Errno 2] No such file or directory: '///home/ayat/Downloads/rfdi_July.tif'",
     "output_type": "error",
     "traceback": [
      "\u001b[0;31m---------------------------------------------------------------------------\u001b[0m",
      "\u001b[0;31mFileNotFoundError\u001b[0m                         Traceback (most recent call last)",
      "Input \u001b[0;32mIn [98]\u001b[0m, in \u001b[0;36m<module>\u001b[0;34m\u001b[0m\n\u001b[1;32m      1\u001b[0m \u001b[38;5;66;03m# choosing two points and calculte the ndvi and rfdi foe them\u001b[39;00m\n\u001b[1;32m      2\u001b[0m \u001b[38;5;66;03m#point1=(-0.658,116.457)\u001b[39;00m\n\u001b[1;32m      3\u001b[0m \u001b[38;5;66;03m#point2= (-0.699,116.478)\u001b[39;00m\n\u001b[1;32m      4\u001b[0m \u001b[38;5;28;01mfrom\u001b[39;00m \u001b[38;5;21;01mPIL\u001b[39;00m \u001b[38;5;28;01mimport\u001b[39;00m Image\n\u001b[0;32m----> 6\u001b[0m im_rfdi_july \u001b[38;5;241m=\u001b[39m \u001b[43mImage\u001b[49m\u001b[38;5;241;43m.\u001b[39;49m\u001b[43mopen\u001b[49m\u001b[43m(\u001b[49m\u001b[38;5;124;43mr\u001b[39;49m\u001b[38;5;124;43m\"\u001b[39;49m\u001b[38;5;124;43m///home/ayat/Downloads/rfdi_July.tif\u001b[39;49m\u001b[38;5;124;43m\"\u001b[39;49m\u001b[43m)\u001b[49m\n\u001b[1;32m      7\u001b[0m im_rfdi_august \u001b[38;5;241m=\u001b[39m Image\u001b[38;5;241m.\u001b[39mopen(\u001b[38;5;124mr\u001b[39m\u001b[38;5;124m\"\u001b[39m\u001b[38;5;124m///home/ayat/Downloads/rfdi_august.tif\u001b[39m\u001b[38;5;124m\"\u001b[39m)\n\u001b[1;32m      8\u001b[0m im_ndvi_july \u001b[38;5;241m=\u001b[39m Image\u001b[38;5;241m.\u001b[39mopen(\u001b[38;5;124mr\u001b[39m\u001b[38;5;124m\"\u001b[39m\u001b[38;5;124m///home/ayat/Downloads/NDVI_July.tif\u001b[39m\u001b[38;5;124m\"\u001b[39m)\n",
      "File \u001b[0;32m~/anaconda3/envs/gee/lib/python3.9/site-packages/PIL/Image.py:2953\u001b[0m, in \u001b[0;36mopen\u001b[0;34m(fp, mode, formats)\u001b[0m\n\u001b[1;32m   2950\u001b[0m     filename \u001b[38;5;241m=\u001b[39m fp\n\u001b[1;32m   2952\u001b[0m \u001b[38;5;28;01mif\u001b[39;00m filename:\n\u001b[0;32m-> 2953\u001b[0m     fp \u001b[38;5;241m=\u001b[39m \u001b[43mbuiltins\u001b[49m\u001b[38;5;241;43m.\u001b[39;49m\u001b[43mopen\u001b[49m\u001b[43m(\u001b[49m\u001b[43mfilename\u001b[49m\u001b[43m,\u001b[49m\u001b[43m \u001b[49m\u001b[38;5;124;43m\"\u001b[39;49m\u001b[38;5;124;43mrb\u001b[39;49m\u001b[38;5;124;43m\"\u001b[39;49m\u001b[43m)\u001b[49m\n\u001b[1;32m   2954\u001b[0m     exclusive_fp \u001b[38;5;241m=\u001b[39m \u001b[38;5;28;01mTrue\u001b[39;00m\n\u001b[1;32m   2956\u001b[0m \u001b[38;5;28;01mtry\u001b[39;00m:\n",
      "\u001b[0;31mFileNotFoundError\u001b[0m: [Errno 2] No such file or directory: '///home/ayat/Downloads/rfdi_July.tif'"
     ]
    }
   ],
   "source": [
    "# choosing two points and calculte the ndvi and rfdi foe them\n",
    "#point1=(-0.658,116.457)\n",
    "#point2= (-0.699,116.478)\n",
    "from PIL import Image\n",
    "\n",
    "im_rfdi_july = Image.open(r\"///home/ayat/Downloads/rfdi_July.tif\")\n",
    "im_rfdi_august = Image.open(r\"///home/ayat/Downloads/rfdi_august.tif\")\n",
    "im_ndvi_july = Image.open(r\"///home/ayat/Downloads/NDVI_July.tif\")\n",
    "im_ndvi_august = Image.open(r\"///home/ayat/Downloads/NDVI_august.tif\")\n",
    "px1 = im_rfdi_july.load()\n",
    "px2 = im_rfdi_august.load()\n",
    "px3 = im_ndvi_july.load()\n",
    "px4 = im_ndvi_august.load()\n",
    "coordinate1 = x, y = -0.658, 116.45\n",
    "\n",
    "#point1\n",
    "print (im_rfdi_july.getpixel(coordinate1));\n",
    "print (im_rfdi_august.getpixel(coordinate1));\n",
    "print (im_ndvi_july.getpixel(coordinate1));\n",
    "print (im_ndvi_august .getpixel(coordinate1));\n"
   ]
  },
  {
   "cell_type": "code",
   "execution_count": 99,
   "id": "97470787",
   "metadata": {},
   "outputs": [
    {
     "ename": "NameError",
     "evalue": "name 'im_rfdi_july' is not defined",
     "output_type": "error",
     "traceback": [
      "\u001b[0;31m---------------------------------------------------------------------------\u001b[0m",
      "\u001b[0;31mNameError\u001b[0m                                 Traceback (most recent call last)",
      "Input \u001b[0;32mIn [99]\u001b[0m, in \u001b[0;36m<module>\u001b[0;34m\u001b[0m\n\u001b[1;32m      1\u001b[0m coordinate2 \u001b[38;5;241m=\u001b[39m x, y \u001b[38;5;241m=\u001b[39m \u001b[38;5;241m-\u001b[39m\u001b[38;5;241m0.7\u001b[39m, \u001b[38;5;241m116.47\u001b[39m\n\u001b[1;32m      2\u001b[0m \u001b[38;5;66;03m#point2\u001b[39;00m\n\u001b[0;32m----> 3\u001b[0m \u001b[38;5;28mprint\u001b[39m (\u001b[43mim_rfdi_july\u001b[49m\u001b[38;5;241m.\u001b[39mgetpixel(coordinate2));\n\u001b[1;32m      4\u001b[0m \u001b[38;5;28mprint\u001b[39m (im_rfdi_august\u001b[38;5;241m.\u001b[39mgetpixel(coordinate2));\n\u001b[1;32m      5\u001b[0m \u001b[38;5;28mprint\u001b[39m (im_ndvi_july\u001b[38;5;241m.\u001b[39mgetpixel(coordinate2));\n",
      "\u001b[0;31mNameError\u001b[0m: name 'im_rfdi_july' is not defined"
     ]
    }
   ],
   "source": [
    "coordinate2 = x, y = -0.7, 116.47\n",
    "#point2\n",
    "print (im_rfdi_july.getpixel(coordinate2));\n",
    "print (im_rfdi_august.getpixel(coordinate2));\n",
    "print (im_ndvi_july.getpixel(coordinate2));\n",
    "print (im_ndvi_august .getpixel(coordinate2));"
   ]
  },
  {
   "cell_type": "code",
   "execution_count": null,
   "id": "f4b2e12d",
   "metadata": {},
   "outputs": [],
   "source": []
  },
  {
   "cell_type": "code",
   "execution_count": null,
   "id": "e969cef4",
   "metadata": {},
   "outputs": [],
   "source": []
  },
  {
   "cell_type": "code",
   "execution_count": null,
   "id": "00a047ef",
   "metadata": {},
   "outputs": [],
   "source": []
  }
 ],
 "metadata": {
  "kernelspec": {
   "display_name": "Python 3 (ipykernel)",
   "language": "python",
   "name": "python3"
  },
  "language_info": {
   "codemirror_mode": {
    "name": "ipython",
    "version": 3
   },
   "file_extension": ".py",
   "mimetype": "text/x-python",
   "name": "python",
   "nbconvert_exporter": "python",
   "pygments_lexer": "ipython3",
   "version": "3.9.7"
  }
 },
 "nbformat": 4,
 "nbformat_minor": 5
}
